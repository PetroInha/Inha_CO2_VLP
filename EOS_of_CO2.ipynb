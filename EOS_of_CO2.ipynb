{
 "cells": [
  {
   "cell_type": "code",
   "execution_count": 1,
   "id": "a7bfec9f",
   "metadata": {},
   "outputs": [
    {
     "name": "stdout",
     "output_type": "stream",
     "text": [
      "hi\n"
     ]
    }
   ],
   "source": [
    "print('hi')"
   ]
  },
  {
   "cell_type": "code",
   "execution_count": 4,
   "id": "1b74d0d9",
   "metadata": {},
   "outputs": [
    {
     "name": "stdout",
     "output_type": "stream",
     "text": [
      "압력(bar): 50\n",
      "온도(K): 300\n",
      "높이(m): 1\n",
      "지름(m): 1\n",
      "유량(m^3/s): 1\n",
      "러프니스: 0.00006\n",
      "density: 130.63831784157924\n",
      "viscosity: 16.774283493410792\n",
      "1m 아래의 압력은 74124.0(bar)입니다.\n"
     ]
    }
   ],
   "source": [
    "import numpy as np\n",
    "from math import *\n",
    "def density_of_co2(P, T):\n",
    "    if P>25 and P<100:\n",
    "        A1 = 2.089800972761597e5;   B1 = -1.456286332143609e4; C1 = 2.885813588280259e2;   D1 = -1.597103845187521\n",
    "        A2 = -1.675182353338921e3;  B2 = 1.16799554255704e2;   C2 = -2.31558333122805;     D2 = 1.284012022012305e-2\n",
    "        A3 = 4.450600950630782;     B3 = -3.10430147581379e-1; C3 = 6.157718845508209e-3;  D3 = -3.420339567335051e-5\n",
    "        A4 = -3.919844561756813e-3; B4 = 2.734973744483903e-4; C4 = -5.428007373890436e-6; D4 = 3.019572090945029e-8\n",
    "        alpha = A1 + B1*P + C1*P**2 + D1*P**3\n",
    "        beta  = A2 + B2*P + C2*P**2 + D2*P**3\n",
    "        gamma = A3 + B3*P + C3*P**2 + D3*P**3\n",
    "        theta = A4 + B4*P + C4*P**2 + D4*P**3\n",
    "        density = alpha + beta*T + gamma*(T**2) + theta*(T**3)\n",
    "        print('density: {0}'.format(density))\n",
    "    elif P>100 and P<700:\n",
    "        A1 = 1.053293651041897e5;   B1 = -9.396448507019846e2;  C1 = 2.397414334181339;     D1 = -1.819046028481314e-3\n",
    "        A2 = -8.253383504614545e2;  B2 = 7.618125848567747;     C2 = -1.963563757655062e-2; D2 = 1.497658394413360e-5\n",
    "        A3 = 2.135712083402950;     B3 = -2.023128850373911e-2; C3 = 5.272125417813041e-5;  D3 = -4.043564072108339e-8\n",
    "        A4 = -1.827956524285481e-3; B4 = 1.768297712855951e-5;  C4 = -4.653377143658811e-8; D4 = 3.586708189749551e-11\n",
    "        alpha = A1 + B1*P + C1*P**2 + D1*P**3\n",
    "        beta  = A2 + B2*P + C2*P**2 + D2*P**3\n",
    "        gamma = A3 + B3*P + C3*P**2 + D3*P**3\n",
    "        theta = A4 + B4*P + C4*P**2 + D4*P**3\n",
    "        density = alpha + beta*T + gamma*(T**2) + theta*(T**3)\n",
    "        print('density: {0}'.format(density))\n",
    "    else:\n",
    "        print('Warring: co2 pressure is not valid')\n",
    "    return density\n",
    "\n",
    "def viscosity_of_co2(density, T):\n",
    "    a0 = 0.235156; a1 = -0.491266; a2 = 5.211155e-2; a3 = 5.347906e-2; a4 = -1.537102e-2\n",
    "    d11 = 0.4071119e-2; d21 = 0.7198037e-4; d64 = 0.2411697e-16; d81 = 0.2971072e-22 ; d82 = -0.1627888e-22\n",
    "    \n",
    "    viscosity1 = 1.00697*sqrt(T)/np.exp(a0 + a1*log(T/251.196) + a2*(log(T/251.196))**2 + a3*(log(T/251.196))**3 + a4*(log(T/251.196))**4)  \n",
    "    \n",
    "    viscosity2 = d11*density + d21*(density**2) + d64*(density**6)/((T/251.196)**3) + d81*(density**8) + d82*(density**8)/(T/251.196)\n",
    "    \n",
    "    viscosity = viscosity1 + viscosity2\n",
    "    print('viscosity: {0}'.format(viscosity))\n",
    "    return viscosity\n",
    "\n",
    "def velocity(D,Q):\n",
    "    V = Q/(pi*(D**2)/4)\n",
    "    return V\n",
    "\n",
    "def Reynolds(density, V, D, viscosity):\n",
    "    Re = density*V*D/(viscosity*1e-6)\n",
    "    return Re\n",
    "\n",
    "def friction_factor(rel_roughness, Re):\n",
    "    if Re > 4000:\n",
    "        AA0 = -0.79638*log(rel_roughness/8.208 + 7.3357/Re)\n",
    "        AA1 = Re*rel_roughness + 9.3120665*AA0\n",
    "        f = ((8.128943 + AA1)/(8.128943*AA0) + 0.86859509*AA1*log(AA1/(3.7099535*Re)))\n",
    "    elif Re < 2100:\n",
    "        f = 64/Re\n",
    "    else:\n",
    "        f = np.nan\n",
    "    return f\n",
    "\n",
    "def pressure(P, density, h, f, D, V):\n",
    "    P_2 = P + density*(h*9.8-f*h*(V**2)/(D*2))\n",
    "    print('{0}m 아래의 압력은 {1}(bar)입니다.'.format(h, P_2))\n",
    "P = input('압력(bar): ')\n",
    "T = input('온도(K): ')\n",
    "h = input('높이(m): ')\n",
    "D = input('지름(m): ')\n",
    "Q = input('유량(m^3/s): ')\n",
    "rel_roughness = input('러프니스: ')\n",
    "V = velocity(int(D),int(Q))\n",
    "density = density_of_co2(int(P), int(T))\n",
    "viscosity_of_co2 = viscosity_of_co2(density, int(T))\n",
    "viscosity = viscosity_of_co2\n",
    "Re = Reynolds(density, int(V), int(D), viscosity)\n",
    "rel_roughness = float(rel_roughness)\n",
    "friction_factor(int(rel_roughness),Re)\n",
    "f = friction_factor(int(rel_roughness),Re)\n",
    "\n",
    "pressure(int(P),int(density),int(h),int(f),int(D),int(V))"
   ]
  },
  {
   "cell_type": "code",
   "execution_count": null,
   "id": "7da111f6",
   "metadata": {},
   "outputs": [],
   "source": []
  },
  {
   "cell_type": "code",
   "execution_count": null,
   "id": "dd17f454",
   "metadata": {},
   "outputs": [],
   "source": []
  }
 ],
 "metadata": {
  "kernelspec": {
   "display_name": "Python 3 (ipykernel)",
   "language": "python",
   "name": "python3"
  },
  "language_info": {
   "codemirror_mode": {
    "name": "ipython",
    "version": 3
   },
   "file_extension": ".py",
   "mimetype": "text/x-python",
   "name": "python",
   "nbconvert_exporter": "python",
   "pygments_lexer": "ipython3",
   "version": "3.9.12"
  }
 },
 "nbformat": 4,
 "nbformat_minor": 5
}
