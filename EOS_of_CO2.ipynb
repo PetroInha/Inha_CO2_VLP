{
 "cells": [
  {
   "cell_type": "code",
   "execution_count": 1,
   "id": "1b74d0d9",
   "metadata": {},
   "outputs": [],
   "source": [
    "import pandas as pd\n",
    "from ccs import * \n",
    "\n",
    "df = pd.read_csv('vertical_well.csv')"
   ]
  },
  {
   "cell_type": "code",
   "execution_count": 2,
   "id": "e38a4089",
   "metadata": {},
   "outputs": [],
   "source": [
    "### Initial input\n",
    "T = 300.0                # k\n",
    "D = 4.5 * 2.56 * 1E-2  # m\n",
    "M = 0.5E5*1E3/365/24/3600          # kg/s ... which is equal to 0.1 tonne per year \n",
    "rel_roughness = 0.000025/D\n",
    "P_wh = 200             # bar\n",
    "df['P'] = -999\n",
    "df.loc[0,\"P\"] = P_wh\n",
    "\n",
    "### Unit Conversion\n",
    "bar2pa = 1E6\n",
    "gravity_acc = 9.81     # m/s2\n",
    "\n",
    "\n",
    "### Error Convergence\n",
    "Accepted_error = 1E-6"
   ]
  },
  {
   "cell_type": "code",
   "execution_count": 3,
   "id": "7896c6fe",
   "metadata": {},
   "outputs": [
    {
     "data": {
      "text/plain": [
       "3001"
      ]
     },
     "execution_count": 3,
     "metadata": {},
     "output_type": "execute_result"
    }
   ],
   "source": [
    "len(df)"
   ]
  },
  {
   "cell_type": "code",
   "execution_count": 4,
   "id": "348b7396",
   "metadata": {},
   "outputs": [
    {
     "name": "stdout",
     "output_type": "stream",
     "text": [
      "CPU times: total: 219 ms\n",
      "Wall time: 421 ms\n"
     ]
    }
   ],
   "source": [
    "%%time\n",
    "\n",
    "for i in range(len(df) -1):\n",
    "    P1 = df.loc[i, 'P']\n",
    "    length = abs(df.loc[i+1, 'MD'] - df.loc[i, 'MD'])\n",
    "    del_depth = abs(df.loc[i+1, 'Z'] - df.loc[i, 'Z'])\n",
    "    P2 = compute_next_pressure(P1, T, D, M, length, del_depth, rel_roughness)\n",
    "\n",
    "    df.loc[i+1, 'P'] = P2\n"
   ]
  },
  {
   "cell_type": "code",
   "execution_count": 6,
   "id": "d7f88206",
   "metadata": {},
   "outputs": [
    {
     "ename": "ModuleNotFoundError",
     "evalue": "No module named 'matplotlib'",
     "output_type": "error",
     "traceback": [
      "\u001b[1;31m---------------------------------------------------------------------------\u001b[0m",
      "\u001b[1;31mModuleNotFoundError\u001b[0m                       Traceback (most recent call last)",
      "Cell \u001b[1;32mIn[6], line 1\u001b[0m\n\u001b[1;32m----> 1\u001b[0m \u001b[39mimport\u001b[39;00m \u001b[39mmatplotlib\u001b[39;00m\u001b[39m.\u001b[39;00m\u001b[39mpyplot\u001b[39;00m \u001b[39mas\u001b[39;00m \u001b[39mplt\u001b[39;00m\n",
      "\u001b[1;31mModuleNotFoundError\u001b[0m: No module named 'matplotlib'"
     ]
    }
   ],
   "source": [
    "import matplotlib.pyplot as plt"
   ]
  },
  {
   "cell_type": "code",
   "execution_count": null,
   "id": "1f9c0cd4",
   "metadata": {},
   "outputs": [],
   "source": [
    "df.plot(x = 'P', y='Z')\n",
    "plt.gca().invert_yaxis()"
   ]
  },
  {
   "cell_type": "code",
   "execution_count": 5,
   "id": "1aa02e89",
   "metadata": {},
   "outputs": [
    {
     "name": "stdout",
     "output_type": "stream",
     "text": [
      "Bottom hole pressure is 215.05 bar\n"
     ]
    }
   ],
   "source": [
    "print(f\"Bottom hole pressure is {df.iloc[-1]['P']:.5} bar\")"
   ]
  }
 ],
 "metadata": {
  "kernelspec": {
   "display_name": "Python 3 (ipykernel)",
   "language": "python",
   "name": "python3"
  },
  "language_info": {
   "codemirror_mode": {
    "name": "ipython",
    "version": 3
   },
   "file_extension": ".py",
   "mimetype": "text/x-python",
   "name": "python",
   "nbconvert_exporter": "python",
   "pygments_lexer": "ipython3",
   "version": "3.11.4"
  }
 },
 "nbformat": 4,
 "nbformat_minor": 5
}
