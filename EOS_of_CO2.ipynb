{
 "cells": [
  {
   "cell_type": "code",
   "execution_count": 60,
   "id": "1b74d0d9",
   "metadata": {},
   "outputs": [],
   "source": [
    "import pandas as pd\n",
    "from ccs import * \n",
    "\n",
    "df = pd.read_csv('vertical_well.csv')"
   ]
  },
  {
   "cell_type": "code",
   "execution_count": 61,
   "id": "e38a4089",
   "metadata": {},
   "outputs": [],
   "source": [
    "### Initial input\n",
    "T = 300.0                # k\n",
    "D = 4.5 * 2.56 * 1E-2  # m\n",
    "M = 0.5E5*1E3/365/24/3600          # kg/s ... which is equal to 0.1 tonne per year \n",
    "rel_roughness = 0.000025/D\n",
    "P_wh = 100             # bar\n",
    "df['P'] = -999\n",
    "df.loc[0,\"P\"] = P_wh\n",
    "\n",
    "### Unit Conversion\n",
    "bar2pa = 1E6\n",
    "gravity_acc = 9.81     # m/s2\n",
    "\n",
    "\n",
    "### Error Convergence\n",
    "Accepted_error = 1E-6"
   ]
  },
  {
   "cell_type": "code",
   "execution_count": 62,
   "id": "348b7396",
   "metadata": {},
   "outputs": [
    {
     "name": "stdout",
     "output_type": "stream",
     "text": [
      "Wall time: 529 ms\n"
     ]
    }
   ],
   "source": [
    "%%time\n",
    "\n",
    "for i in range(len(df) -1):\n",
    "    P1 = df.loc[i, 'P']\n",
    "    length = abs(df.loc[i+1, 'MD'] - df.loc[i, 'MD'])\n",
    "    del_depth = abs(df.loc[i+1, 'Z'] - df.loc[i, 'Z'])\n",
    "    P2 = compute_next_pressure(P1, T, D, M, length, del_depth)\n",
    "\n",
    "    df.loc[i+1, 'P'] = P2\n"
   ]
  },
  {
   "cell_type": "code",
   "execution_count": 68,
   "id": "1aa02e89",
   "metadata": {},
   "outputs": [
    {
     "name": "stdout",
     "output_type": "stream",
     "text": [
      "Bottom hole pressure is 104.94 bar\n"
     ]
    }
   ],
   "source": [
    "print(f\"Bottom hole pressure is {df.iloc[-1]['P']:.5} bar\")"
   ]
  }
 ],
 "metadata": {
  "kernelspec": {
   "display_name": "Python 3 (ipykernel)",
   "language": "python",
   "name": "python3"
  },
  "language_info": {
   "codemirror_mode": {
    "name": "ipython",
    "version": 3
   },
   "file_extension": ".py",
   "mimetype": "text/x-python",
   "name": "python",
   "nbconvert_exporter": "python",
   "pygments_lexer": "ipython3",
   "version": "3.8.5"
  }
 },
 "nbformat": 4,
 "nbformat_minor": 5
}
