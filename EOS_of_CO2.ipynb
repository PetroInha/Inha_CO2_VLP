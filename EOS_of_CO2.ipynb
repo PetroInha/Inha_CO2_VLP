{
 "cells": [
  {
   "cell_type": "code",
   "execution_count": 1,
   "id": "1b74d0d9",
   "metadata": {},
   "outputs": [],
   "source": [
    "import pandas as pd\n",
    "from ccs import * \n"
   ]
  },
  {
   "cell_type": "code",
   "execution_count": 2,
   "id": "bb0b19a6",
   "metadata": {},
   "outputs": [],
   "source": [
    "df = pd.read_csv('vertical_well.csv')"
   ]
  },
  {
   "cell_type": "code",
   "execution_count": 14,
   "id": "e38a4089",
   "metadata": {},
   "outputs": [],
   "source": [
    "T = 300.0              # k\n",
    "D = 0.25               # m\n",
    "M = 1E5*1E3/365/24/3600          # kg/s ... which is equal to 0.1 tonne per year \n",
    "rel_roughness = 0.0018/D\n",
    "P_wh = 100             # bar\n",
    "\n",
    "### Unit Conversion\n",
    "bar2pa = 1E6\n",
    "gravity_acc = 9.81     # m/s2\n",
    "\n",
    "\n",
    "### Error Convergence\n",
    "Accepted_error = 1E-6"
   ]
  },
  {
   "cell_type": "code",
   "execution_count": 15,
   "id": "b1a0af48",
   "metadata": {},
   "outputs": [
    {
     "name": "stdout",
     "output_type": "stream",
     "text": [
      "error: 0.000249183286584298\n",
      "error: -1.1191048088221578e-10\n"
     ]
    }
   ],
   "source": [
    "P1 = P_wh\n",
    "assumed_co2_density = density_of_co2(P1, T)\n",
    "hydro_static_p = assumed_co2_density*gravity_acc*1/bar2pa\n",
    "P2 = P1 + hydro_static_p\n",
    "\n",
    "P_avg = (P1 + P2)/ 2\n",
    "\n",
    "error = 99999\n",
    "\n",
    "while error > Accepted_error:\n",
    "\n",
    "    assumed_co2_density = density_of_co2(P_avg, T)\n",
    "    assumed_co2_viscosity = viscosity_of_co2(assumed_co2_density, T)\n",
    "    q = flow_rate(M, assumed_co2_density)\n",
    "    flow_velocity = velocity(D, q)\n",
    "    reynolds = Reynolds(assumed_co2_density, flow_velocity, D, assumed_co2_viscosity )\n",
    "    f = friction_factor(rel_roughness, reynolds )\n",
    "    P_del_friction = friction_delta_pressure(f,assumed_co2_viscosity,flow_velocity,D,1)\n",
    "\n",
    "    P2_new = P1 + hydro_static_p - P_del_friction/bar2pa\n",
    "\n",
    "    error = P2 - P2_new\n",
    "    print(f'error: {error}')\n",
    "\n",
    "    P2 = P2_new\n",
    "    P_avg = (P1 + P2)/ 2\n"
   ]
  }
 ],
 "metadata": {
  "kernelspec": {
   "display_name": "Python 3 (ipykernel)",
   "language": "python",
   "name": "python3"
  },
  "language_info": {
   "codemirror_mode": {
    "name": "ipython",
    "version": 3
   },
   "file_extension": ".py",
   "mimetype": "text/x-python",
   "name": "python",
   "nbconvert_exporter": "python",
   "pygments_lexer": "ipython3",
   "version": "3.8.5"
  }
 },
 "nbformat": 4,
 "nbformat_minor": 5
}
